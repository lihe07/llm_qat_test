{
 "cells": [
  {
   "cell_type": "code",
   "execution_count": 1,
   "id": "b187111c-2b63-4ee4-b313-90b1c9f5329d",
   "metadata": {},
   "outputs": [
    {
     "name": "stderr",
     "output_type": "stream",
     "text": [
      "2025-09-07 11:02:56.134852: I tensorflow/core/util/port.cc:153] oneDNN custom operations are on. You may see slightly different numerical results due to floating-point round-off errors from different computation orders. To turn them off, set the environment variable `TF_ENABLE_ONEDNN_OPTS=0`.\n",
      "2025-09-07 11:02:56.305520: I tensorflow/core/platform/cpu_feature_guard.cc:210] This TensorFlow binary is optimized to use available CPU instructions in performance-critical operations.\n",
      "To enable the following instructions: AVX2 AVX512F AVX512_VNNI AVX512_BF16 AVX_VNNI FMA, in other operations, rebuild TensorFlow with the appropriate compiler flags.\n"
     ]
    }
   ],
   "source": [
    "from transformers import (\n",
    "    GPT2Tokenizer,\n",
    "    GPT2ForQuestionAnswering,\n",
    "    TrainingArguments,\n",
    "    Trainer,\n",
    ")"
   ]
  },
  {
   "cell_type": "code",
   "execution_count": 4,
   "id": "d9df57ee-25ab-49d2-8bd2-6336c8e75e7b",
   "metadata": {},
   "outputs": [],
   "source": []
  },
  {
   "cell_type": "code",
   "execution_count": 9,
   "id": "adc116fa-be1b-48f0-b28b-96b318bc98e8",
   "metadata": {},
   "outputs": [
    {
     "data": {
      "text/plain": [
       "{'id': '56be4db0acb8001400a502ec',\n",
       " 'title': 'Super_Bowl_50',\n",
       " 'context': 'Super Bowl 50 was an American football game to determine the champion of the National Football League (NFL) for the 2015 season. The American Football Conference (AFC) champion Denver Broncos defeated the National Football Conference (NFC) champion Carolina Panthers 24–10 to earn their third Super Bowl title. The game was played on February 7, 2016, at Levi\\'s Stadium in the San Francisco Bay Area at Santa Clara, California. As this was the 50th Super Bowl, the league emphasized the \"golden anniversary\" with various gold-themed initiatives, as well as temporarily suspending the tradition of naming each Super Bowl game with Roman numerals (under which the game would have been known as \"Super Bowl L\"), so that the logo could prominently feature the Arabic numerals 50.',\n",
       " 'question': 'Which NFL team represented the AFC at Super Bowl 50?',\n",
       " 'answers': {'text': ['Denver Broncos', 'Denver Broncos', 'Denver Broncos'],\n",
       "  'answer_start': [177, 177, 177]}}"
      ]
     },
     "execution_count": 9,
     "metadata": {},
     "output_type": "execute_result"
    }
   ],
   "source": [
    "d[\"validation\"][0]"
   ]
  },
  {
   "cell_type": "code",
   "execution_count": 9,
   "id": "2ca6bd15-0543-44fd-b624-d73a051e4792",
   "metadata": {},
   "outputs": [],
   "source": [
    "a = nn.MultiheadAttention(embed_dim=embed_dims, num_heads=5)"
   ]
  },
  {
   "cell_type": "code",
   "execution_count": 12,
   "id": "1cf0f9a7-2d75-443a-95d8-a2e530309820",
   "metadata": {},
   "outputs": [
    {
     "data": {
      "text/plain": [
       "(tensor([[[-0.2500, -0.4622, -0.2355,  ...,  0.0633,  0.1339, -0.2936],\n",
       "          [-0.2661, -0.4058, -0.2201,  ...,  0.0834,  0.1199, -0.3288],\n",
       "          [-0.0312, -0.4482, -0.4182,  ...,  0.1030,  0.0605, -0.5294],\n",
       "          ...,\n",
       "          [-0.1122, -0.4237, -0.2887,  ...,  0.2315,  0.1962, -0.2759],\n",
       "          [-0.1823, -0.5234, -0.3608,  ...,  0.0223,  0.0153, -0.4120],\n",
       "          [-0.2295, -0.4131, -0.4158,  ...,  0.0156,  0.1168, -0.4062]],\n",
       " \n",
       "         [[-0.2517, -0.4669, -0.2323,  ...,  0.0667,  0.1318, -0.2946],\n",
       "          [-0.2601, -0.4032, -0.2202,  ...,  0.0808,  0.1211, -0.3274],\n",
       "          [-0.0339, -0.4446, -0.4214,  ...,  0.1053,  0.0600, -0.5267],\n",
       "          ...,\n",
       "          [-0.1172, -0.4278, -0.2987,  ...,  0.2280,  0.1973, -0.2794],\n",
       "          [-0.1840, -0.5239, -0.3570,  ...,  0.0213,  0.0136, -0.4153],\n",
       "          [-0.2340, -0.4098, -0.4168,  ...,  0.0124,  0.1177, -0.4086]],\n",
       " \n",
       "         [[-0.2486, -0.4618, -0.2405,  ...,  0.0618,  0.1328, -0.2949],\n",
       "          [-0.2652, -0.4024, -0.2195,  ...,  0.0842,  0.1194, -0.3282],\n",
       "          [-0.0356, -0.4465, -0.4198,  ...,  0.1047,  0.0602, -0.5288],\n",
       "          ...,\n",
       "          [-0.1163, -0.4261, -0.2985,  ...,  0.2295,  0.1957, -0.2775],\n",
       "          [-0.1835, -0.5234, -0.3542,  ...,  0.0209,  0.0138, -0.4125],\n",
       "          [-0.2317, -0.4119, -0.4130,  ...,  0.0131,  0.1163, -0.4086]]],\n",
       "        grad_fn=<ViewBackward0>),\n",
       " tensor([[[0.3388, 0.3220, 0.3392],\n",
       "          [0.3428, 0.3227, 0.3345],\n",
       "          [0.3380, 0.3239, 0.3381]],\n",
       " \n",
       "         [[0.3334, 0.3162, 0.3504],\n",
       "          [0.3178, 0.3283, 0.3539],\n",
       "          [0.3316, 0.3164, 0.3519]],\n",
       " \n",
       "         [[0.3410, 0.3350, 0.3241],\n",
       "          [0.3389, 0.3304, 0.3307],\n",
       "          [0.3415, 0.3302, 0.3283]],\n",
       " \n",
       "         [[0.3317, 0.3323, 0.3360],\n",
       "          [0.3131, 0.3455, 0.3415],\n",
       "          [0.3354, 0.3184, 0.3461]],\n",
       " \n",
       "         [[0.3357, 0.3303, 0.3340],\n",
       "          [0.3390, 0.3281, 0.3329],\n",
       "          [0.3266, 0.3307, 0.3427]],\n",
       " \n",
       "         [[0.3359, 0.3479, 0.3162],\n",
       "          [0.3277, 0.3348, 0.3375],\n",
       "          [0.3319, 0.3500, 0.3181]],\n",
       " \n",
       "         [[0.3126, 0.3489, 0.3386],\n",
       "          [0.3229, 0.3470, 0.3301],\n",
       "          [0.3262, 0.3399, 0.3339]],\n",
       " \n",
       "         [[0.3213, 0.3417, 0.3371],\n",
       "          [0.3332, 0.3268, 0.3400],\n",
       "          [0.3328, 0.3268, 0.3403]],\n",
       " \n",
       "         [[0.3493, 0.3207, 0.3300],\n",
       "          [0.3398, 0.3291, 0.3311],\n",
       "          [0.3497, 0.3223, 0.3279]],\n",
       " \n",
       "         [[0.3412, 0.3333, 0.3255],\n",
       "          [0.3421, 0.3395, 0.3184],\n",
       "          [0.3391, 0.3371, 0.3238]]], grad_fn=<MeanBackward1>))"
      ]
     },
     "execution_count": 12,
     "metadata": {},
     "output_type": "execute_result"
    }
   ],
   "source": [
    "a(inp, inp, inp)"
   ]
  },
  {
   "cell_type": "code",
   "execution_count": null,
   "id": "73bbfcd7-c948-4c79-9e5a-842e71c7fc28",
   "metadata": {},
   "outputs": [],
   "source": []
  }
 ],
 "metadata": {
  "kernelspec": {
   "display_name": "base",
   "language": "python",
   "name": "base"
  },
  "language_info": {
   "codemirror_mode": {
    "name": "ipython",
    "version": 3
   },
   "file_extension": ".py",
   "mimetype": "text/x-python",
   "name": "python",
   "nbconvert_exporter": "python",
   "pygments_lexer": "ipython3",
   "version": "3.12.9"
  }
 },
 "nbformat": 4,
 "nbformat_minor": 5
}
