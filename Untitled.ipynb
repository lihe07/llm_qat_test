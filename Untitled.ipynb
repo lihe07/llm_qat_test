{
 "cells": [
  {
   "cell_type": "code",
   "execution_count": 1,
   "id": "b187111c-2b63-4ee4-b313-90b1c9f5329d",
   "metadata": {},
   "outputs": [],
   "source": [
    "from transformers import (\n",
    "    Conv1D\n",
    ")"
   ]
  },
  {
   "cell_type": "code",
   "execution_count": 2,
   "id": "d9df57ee-25ab-49d2-8bd2-6336c8e75e7b",
   "metadata": {},
   "outputs": [],
   "source": [
    "from torch import nn"
   ]
  },
  {
   "cell_type": "code",
   "execution_count": null,
   "id": "73bbfcd7-c948-4c79-9e5a-842e71c7fc28",
   "metadata": {},
   "outputs": [],
   "source": []
  }
 ],
 "metadata": {
  "kernelspec": {
   "display_name": "base",
   "language": "python",
   "name": "base"
  },
  "language_info": {
   "codemirror_mode": {
    "name": "ipython",
    "version": 3
   },
   "file_extension": ".py",
   "mimetype": "text/x-python",
   "name": "python",
   "nbconvert_exporter": "python",
   "pygments_lexer": "ipython3",
   "version": "3.12.9"
  }
 },
 "nbformat": 4,
 "nbformat_minor": 5
}
